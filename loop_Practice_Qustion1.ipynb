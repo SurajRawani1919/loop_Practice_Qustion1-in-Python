{
 "cells": [
  {
   "cell_type": "markdown",
   "id": "b5182590-51fa-47c5-ae5b-3662de333bdd",
   "metadata": {},
   "source": [
    "# 1.For loop to calculate the factorial of a number provided by the user:\n",
    "n = int(input(\"Enter a number :\"))\n",
    "fact = 1\n",
    "for i in range(1, n + 1):\n",
    "    fact =fact* i\n",
    "\n",
    "print(f\"factorial of {n}:\",fact)  "
   ]
  },
  {
   "cell_type": "code",
   "execution_count": 4,
   "id": "5790bdd0-14da-47aa-980d-3f5746736b23",
   "metadata": {},
   "outputs": [
    {
     "name": "stdin",
     "output_type": "stream",
     "text": [
      "Enter a number :  0\n"
     ]
    },
    {
     "name": "stdout",
     "output_type": "stream",
     "text": [
      "Stopping the loop.\n"
     ]
    }
   ],
   "source": [
    "#2. While loop that asks the user to enter a number and stops when the number is 0:\n",
    "while True:\n",
    "    number = int(input(\"Enter a number : \"))\n",
    "    if number == 0:\n",
    "        print(\"Stopping the loop.\")\n",
    "        break\n",
    "    else:\n",
    "        print(f\"You entered: {number}\")"
   ]
  },
  {
   "cell_type": "code",
   "execution_count": 5,
   "id": "677416ab-3c5e-4880-961a-887ec67b611f",
   "metadata": {},
   "outputs": [
    {
     "name": "stdout",
     "output_type": "stream",
     "text": [
      "PYTHON CODING SURAJ SINGH "
     ]
    }
   ],
   "source": [
    "#3.For loop to iterate over a list of strings and print each string in uppercase:\n",
    "str = [\"python\", \"coding\",\"suraj\",\"singh\"]\n",
    "for string in str:\n",
    "    print(string.upper(),end=\" \")\n"
   ]
  },
  {
   "cell_type": "code",
   "execution_count": 1,
   "id": "590beaa3-0443-48b1-bce7-e1026d9f514e",
   "metadata": {},
   "outputs": [
    {
     "name": "stdin",
     "output_type": "stream",
     "text": [
      "Enter a number :  123\n"
     ]
    },
    {
     "name": "stdout",
     "output_type": "stream",
     "text": [
      "Reversed number: 321\n"
     ]
    }
   ],
   "source": [
    "#4.While loop to reverse a number provided by the user:\n",
    "number = int(input(\"Enter a number : \"))\n",
    "reversed_number = 0\n",
    "\n",
    "while number > 0:\n",
    "    \n",
    "    rem = number % 10\n",
    "    reversed_number = reversed_number * 10 + rem\n",
    "    number = number // 10\n",
    "print(\"Reversed number:\", reversed_number)\n",
    "\n",
    "    "
   ]
  },
  {
   "cell_type": "code",
   "execution_count": 3,
   "id": "c610c501-5bd9-4290-bf4b-0fd0fc8623aa",
   "metadata": {},
   "outputs": [
    {
     "name": "stdout",
     "output_type": "stream",
     "text": [
      "while loop : 1\n",
      "for loop: 1\n",
      "for loop: 2\n",
      "while loop : 2\n",
      "for loop: 1\n",
      "for loop: 2\n",
      "while loop : 3\n",
      "for loop: 1\n",
      "for loop: 2\n"
     ]
    }
   ],
   "source": [
    "#5.Example of using a for loop inside a while loop:\n",
    "i = 1\n",
    "while i <= 3:\n",
    "    print(f\"while loop : {i}\")\n",
    "    \n",
    "    for j in range(1, 3):\n",
    "        print(f\"for loop: {j}\")\n",
    "        \n",
    "    i += 1\n"
   ]
  },
  {
   "cell_type": "code",
   "execution_count": 2,
   "id": "122ee169-bbfd-47e6-88cb-09891a9e31d4",
   "metadata": {},
   "outputs": [
    {
     "name": "stdin",
     "output_type": "stream",
     "text": [
      "Enter the number of terms for Fibonacci sequence:  7\n"
     ]
    },
    {
     "name": "stdout",
     "output_type": "stream",
     "text": [
      "0 1 1 2 3 5 8 "
     ]
    }
   ],
   "source": [
    "#6. For loop to print the Fibonacci sequence up to n terms, where n is provided by the user:\n",
    "n = int(input(\"Enter the number of terms for Fibonacci sequence: \"))\n",
    "a, b = 0, 1\n",
    "for _ in range(n):\n",
    "    print(a, end=\" \")\n",
    "    a, b = b, a + b"
   ]
  },
  {
   "cell_type": "code",
   "execution_count": 10,
   "id": "fae79aae-b396-4c00-a475-106d246cb9a6",
   "metadata": {},
   "outputs": [
    {
     "name": "stdout",
     "output_type": "stream",
     "text": [
      "Name : Suraj\n",
      "Age : 20\n",
      "Program : DataScience\n"
     ]
    }
   ],
   "source": [
    "#7. For loop that iterates over a dictionary and prints the key-value pairs in the format key: value:\n",
    "dict={\"Name\":\"Suraj\",\"Age\":20,\"Program\":\"DataScience\"}\n",
    "for key,value in dict.items():\n",
    "    print(f'{key} : {value}')"
   ]
  },
  {
   "cell_type": "code",
   "execution_count": 11,
   "id": "77ba10b3-6d0a-4670-88e1-ac0279582168",
   "metadata": {},
   "outputs": [
    {
     "name": "stdin",
     "output_type": "stream",
     "text": [
      "Enter a positive integer:  123\n"
     ]
    },
    {
     "name": "stdout",
     "output_type": "stream",
     "text": [
      "The sum of the digits is: 6\n"
     ]
    }
   ],
   "source": [
    "#8. While loop to sum the digits of a positive integer provided by the user:\n",
    "number = int(input(\"Enter a positive integer: \"))\n",
    "\n",
    "sum = 0\n",
    "\n",
    "while number > 0:\n",
    "    sum += number % 10  \n",
    "    number //= 10  \n",
    "print(f\"The sum of the digits is: {sum}\")\n"
   ]
  },
  {
   "cell_type": "code",
   "execution_count": 12,
   "id": "3d7023d1-c2bd-4010-b4b5-77dd0e34aa15",
   "metadata": {},
   "outputs": [
    {
     "name": "stdin",
     "output_type": "stream",
     "text": [
      "Enter number 50\n"
     ]
    },
    {
     "name": "stdout",
     "output_type": "stream",
     "text": [
      "its a prime number : 2\n",
      "its a prime number : 3\n",
      "its a prime number : 5\n",
      "its a prime number : 7\n",
      "its a prime number : 11\n",
      "its a prime number : 13\n",
      "its a prime number : 17\n",
      "its a prime number : 19\n",
      "its a prime number : 23\n",
      "its a prime number : 29\n",
      "its a prime number : 31\n",
      "its a prime number : 37\n",
      "its a prime number : 41\n",
      "its a prime number : 43\n",
      "its a prime number : 47\n"
     ]
    }
   ],
   "source": [
    "#9. For loop to print all prime numbers between 2 and 50:\n",
    "a=int(input(\"Enter number\"))\n",
    "\n",
    "for num in range(2,a+1):\n",
    "    if num>1:\n",
    "        for i in range(2,num):\n",
    "            if num%i==0:\n",
    "                break\n",
    "        else:\n",
    "            print(f'its a prime number : {num}')\n"
   ]
  },
  {
   "cell_type": "code",
   "execution_count": 15,
   "id": "340891cc-4e79-48a6-a7c6-51c7e60f3597",
   "metadata": {},
   "outputs": [
    {
     "name": "stdin",
     "output_type": "stream",
     "text": [
      "Enter a string: suraj\n"
     ]
    },
    {
     "name": "stdout",
     "output_type": "stream",
     "text": [
      "The reversed string is jarus\n"
     ]
    }
   ],
   "source": [
    "#10. For loop to reverse a string provided by the user without using built-in functions:\n",
    "\n",
    "s = input(\"Enter a string:\")\n",
    "reversed_s = \"\"\n",
    "for char in s:\n",
    " reversed_s = char + reversed_s\n",
    "print(f\"The reversed string is {reversed_s}\")\n",
    "\n",
    "\n"
   ]
  },
  {
   "cell_type": "code",
   "execution_count": 1,
   "id": "9e51f869-6d30-42a7-88a0-18ee237e6d62",
   "metadata": {},
   "outputs": [
    {
     "name": "stdout",
     "output_type": "stream",
     "text": [
      "Longest word: chandravanshi\n",
      "Length: 13\n"
     ]
    }
   ],
   "source": [
    "#11. For loop to find the longest word and its length from a list of words:\n",
    "words = [\"suraj\",\"singh\",\"chandravanshi\"]\n",
    "\n",
    "longest_word = \"\"\n",
    "length = 0\n",
    "\n",
    "for word in words:\n",
    "    if len(word) > length:\n",
    "        longest_word = word\n",
    "        length = len(word)\n",
    "\n",
    "print(\"Longest word:\", longest_word)\n",
    "print(\"Length:\", length)\n"
   ]
  }
 ],
 "metadata": {
  "kernelspec": {
   "display_name": "Python 3 (ipykernel)",
   "language": "python",
   "name": "python3"
  },
  "language_info": {
   "codemirror_mode": {
    "name": "ipython",
    "version": 3
   },
   "file_extension": ".py",
   "mimetype": "text/x-python",
   "name": "python",
   "nbconvert_exporter": "python",
   "pygments_lexer": "ipython3",
   "version": "3.10.11"
  }
 },
 "nbformat": 4,
 "nbformat_minor": 5
}
